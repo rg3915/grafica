{
 "cells": [
  {
   "cell_type": "code",
   "execution_count": 1,
   "metadata": {},
   "outputs": [],
   "source": [
    "import pandas as pd"
   ]
  },
  {
   "cell_type": "code",
   "execution_count": 2,
   "metadata": {},
   "outputs": [
    {
     "name": "stdout",
     "output_type": "stream",
     "text": [
      "\u001b[0m\u001b[01;34mcontrib\u001b[0m/  db.sqlite3  \u001b[01;32mmanage.py\u001b[0m*  README.md         Untitled1.ipynb\r\n",
      "data.csv  \u001b[01;34mgrafica\u001b[0m/    \u001b[01;35mmodels.png\u001b[0m  requirements.txt  Untitled.ipynb\r\n"
     ]
    }
   ],
   "source": [
    "ls"
   ]
  },
  {
   "cell_type": "code",
   "execution_count": 3,
   "metadata": {},
   "outputs": [],
   "source": [
    "filename = 'data.csv'"
   ]
  },
  {
   "cell_type": "code",
   "execution_count": 4,
   "metadata": {},
   "outputs": [],
   "source": [
    "df = pd.read_csv(filename)"
   ]
  },
  {
   "cell_type": "code",
   "execution_count": 5,
   "metadata": {},
   "outputs": [
    {
     "data": {
      "text/html": [
       "<div>\n",
       "<style scoped>\n",
       "    .dataframe tbody tr th:only-of-type {\n",
       "        vertical-align: middle;\n",
       "    }\n",
       "\n",
       "    .dataframe tbody tr th {\n",
       "        vertical-align: top;\n",
       "    }\n",
       "\n",
       "    .dataframe thead th {\n",
       "        text-align: right;\n",
       "    }\n",
       "</style>\n",
       "<table border=\"1\" class=\"dataframe\">\n",
       "  <thead>\n",
       "    <tr style=\"text-align: right;\">\n",
       "      <th></th>\n",
       "      <th>nome</th>\n",
       "      <th>email</th>\n",
       "      <th>telefone</th>\n",
       "      <th>cnpj</th>\n",
       "    </tr>\n",
       "  </thead>\n",
       "  <tbody>\n",
       "    <tr>\n",
       "      <th>0</th>\n",
       "      <td>Abel</td>\n",
       "      <td>abel@email.com</td>\n",
       "      <td>80706969</td>\n",
       "      <td>65345559000107</td>\n",
       "    </tr>\n",
       "    <tr>\n",
       "      <th>1</th>\n",
       "      <td>Beatriz</td>\n",
       "      <td>beatriz@email.com</td>\n",
       "      <td>57707609</td>\n",
       "      <td>16782571000165</td>\n",
       "    </tr>\n",
       "    <tr>\n",
       "      <th>2</th>\n",
       "      <td>Carla</td>\n",
       "      <td>carla@email.com</td>\n",
       "      <td>12380900</td>\n",
       "      <td>10191220000101</td>\n",
       "    </tr>\n",
       "    <tr>\n",
       "      <th>3</th>\n",
       "      <td>Fernanda</td>\n",
       "      <td>fernanda@email.com</td>\n",
       "      <td>69563445</td>\n",
       "      <td>54622310000177</td>\n",
       "    </tr>\n",
       "  </tbody>\n",
       "</table>\n",
       "</div>"
      ],
      "text/plain": [
       "       nome               email  telefone            cnpj\n",
       "0      Abel      abel@email.com  80706969  65345559000107\n",
       "1   Beatriz   beatriz@email.com  57707609  16782571000165\n",
       "2     Carla     carla@email.com  12380900  10191220000101\n",
       "3  Fernanda  fernanda@email.com  69563445  54622310000177"
      ]
     },
     "execution_count": 5,
     "metadata": {},
     "output_type": "execute_result"
    }
   ],
   "source": [
    "df"
   ]
  },
  {
   "cell_type": "code",
   "execution_count": 6,
   "metadata": {},
   "outputs": [
    {
     "data": {
      "text/html": [
       "<div>\n",
       "<style scoped>\n",
       "    .dataframe tbody tr th:only-of-type {\n",
       "        vertical-align: middle;\n",
       "    }\n",
       "\n",
       "    .dataframe tbody tr th {\n",
       "        vertical-align: top;\n",
       "    }\n",
       "\n",
       "    .dataframe thead th {\n",
       "        text-align: right;\n",
       "    }\n",
       "</style>\n",
       "<table border=\"1\" class=\"dataframe\">\n",
       "  <thead>\n",
       "    <tr style=\"text-align: right;\">\n",
       "      <th></th>\n",
       "      <th>0</th>\n",
       "      <th>1</th>\n",
       "      <th>2</th>\n",
       "      <th>3</th>\n",
       "    </tr>\n",
       "  </thead>\n",
       "  <tbody>\n",
       "    <tr>\n",
       "      <th>nome</th>\n",
       "      <td>Abel</td>\n",
       "      <td>Beatriz</td>\n",
       "      <td>Carla</td>\n",
       "      <td>Fernanda</td>\n",
       "    </tr>\n",
       "    <tr>\n",
       "      <th>email</th>\n",
       "      <td>abel@email.com</td>\n",
       "      <td>beatriz@email.com</td>\n",
       "      <td>carla@email.com</td>\n",
       "      <td>fernanda@email.com</td>\n",
       "    </tr>\n",
       "    <tr>\n",
       "      <th>telefone</th>\n",
       "      <td>80706969</td>\n",
       "      <td>57707609</td>\n",
       "      <td>12380900</td>\n",
       "      <td>69563445</td>\n",
       "    </tr>\n",
       "    <tr>\n",
       "      <th>cnpj</th>\n",
       "      <td>65345559000107</td>\n",
       "      <td>16782571000165</td>\n",
       "      <td>10191220000101</td>\n",
       "      <td>54622310000177</td>\n",
       "    </tr>\n",
       "  </tbody>\n",
       "</table>\n",
       "</div>"
      ],
      "text/plain": [
       "                       0                  1                2  \\\n",
       "nome                Abel            Beatriz            Carla   \n",
       "email     abel@email.com  beatriz@email.com  carla@email.com   \n",
       "telefone        80706969           57707609         12380900   \n",
       "cnpj      65345559000107     16782571000165   10191220000101   \n",
       "\n",
       "                           3  \n",
       "nome                Fernanda  \n",
       "email     fernanda@email.com  \n",
       "telefone            69563445  \n",
       "cnpj          54622310000177  "
      ]
     },
     "execution_count": 6,
     "metadata": {},
     "output_type": "execute_result"
    }
   ],
   "source": [
    "df.T"
   ]
  },
  {
   "cell_type": "code",
   "execution_count": 7,
   "metadata": {},
   "outputs": [],
   "source": [
    "items = df.T.apply(dict).tolist()"
   ]
  },
  {
   "cell_type": "code",
   "execution_count": 8,
   "metadata": {},
   "outputs": [
    {
     "data": {
      "text/plain": [
       "[{'nome': 'Abel',\n",
       "  'email': 'abel@email.com',\n",
       "  'telefone': 80706969,\n",
       "  'cnpj': 65345559000107},\n",
       " {'nome': 'Beatriz',\n",
       "  'email': 'beatriz@email.com',\n",
       "  'telefone': 57707609,\n",
       "  'cnpj': 16782571000165},\n",
       " {'nome': 'Carla',\n",
       "  'email': 'carla@email.com',\n",
       "  'telefone': 12380900,\n",
       "  'cnpj': 10191220000101},\n",
       " {'nome': 'Fernanda',\n",
       "  'email': 'fernanda@email.com',\n",
       "  'telefone': 69563445,\n",
       "  'cnpj': 54622310000177}]"
      ]
     },
     "execution_count": 8,
     "metadata": {},
     "output_type": "execute_result"
    }
   ],
   "source": [
    "items"
   ]
  },
  {
   "cell_type": "code",
   "execution_count": 9,
   "metadata": {},
   "outputs": [
    {
     "name": "stdout",
     "output_type": "stream",
     "text": [
      "{'nome': 'Abel', 'email': 'abel@email.com', 'telefone': 80706969, 'cnpj': 65345559000107}\n",
      "{'nome': 'Beatriz', 'email': 'beatriz@email.com', 'telefone': 57707609, 'cnpj': 16782571000165}\n",
      "{'nome': 'Carla', 'email': 'carla@email.com', 'telefone': 12380900, 'cnpj': 10191220000101}\n",
      "{'nome': 'Fernanda', 'email': 'fernanda@email.com', 'telefone': 69563445, 'cnpj': 54622310000177}\n"
     ]
    }
   ],
   "source": [
    "for item in items:\n",
    "    print(item)"
   ]
  },
  {
   "cell_type": "code",
   "execution_count": 10,
   "metadata": {},
   "outputs": [],
   "source": [
    "aux = []\n",
    "for item in items:\n",
    "    aux.append(Cliente(**item, tipo='c', uf='SP'))"
   ]
  },
  {
   "cell_type": "code",
   "execution_count": 11,
   "metadata": {},
   "outputs": [
    {
     "data": {
      "text/plain": [
       "[<Cliente: Abel>, <Cliente: Beatriz>, <Cliente: Carla>, <Cliente: Fernanda>]"
      ]
     },
     "execution_count": 11,
     "metadata": {},
     "output_type": "execute_result"
    }
   ],
   "source": [
    "Cliente.objects.bulk_create(aux)"
   ]
  },
  {
   "cell_type": "code",
   "execution_count": null,
   "metadata": {},
   "outputs": [],
   "source": []
  }
 ],
 "metadata": {
  "kernelspec": {
   "display_name": "Django Shell-Plus",
   "language": "python",
   "name": "django_extensions"
  },
  "language_info": {
   "codemirror_mode": {
    "name": "ipython",
    "version": 3
   },
   "file_extension": ".py",
   "mimetype": "text/x-python",
   "name": "python",
   "nbconvert_exporter": "python",
   "pygments_lexer": "ipython3",
   "version": "3.7.0"
  }
 },
 "nbformat": 4,
 "nbformat_minor": 2
}
